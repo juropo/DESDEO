{
 "cells": [
  {
   "cell_type": "code",
   "execution_count": 6,
   "metadata": {},
   "outputs": [
    {
     "name": "stdout",
     "output_type": "stream",
     "text": [
      "name='Multi-Objective Optimization Problem' description='A multi-objective optimization problem for carbon emission, price, and Fuel consumption.' constants=[Constant(name='The constant c_1', symbol='E', value=1), Constant(name='The constant c_2', symbol='B', value=1)] variables=[Variable(name='Carbon_emission', symbol='x_1', variable_type=<VariableTypeEnum.real: 'real'>, lowerbound=0.3, upperbound=1, initial_value=0.5), Variable(name='Price', symbol='x_2', variable_type=<VariableTypeEnum.real: 'real'>, lowerbound=0.3, upperbound=1, initial_value=0.5), Variable(name='Fuel consumption', symbol='x_3', variable_type=<VariableTypeEnum.real: 'real'>, lowerbound=0.3, upperbound=1, initial_value=0.5)] objectives=[Objective(name='Carbon_emission', symbol='f_1', unit=None, func=['Multiply', 2.5, 'x_1'], simulator_path=None, surrogates=None, maximize=False, ideal=None, nadir=None, objective_type=<ObjectiveTypeEnum.analytical: 'analytical'>, is_linear=False, is_convex=False, is_twice_differentiable=False, scenario_keys=None), Objective(name='Price', symbol='f_2', unit=None, func=['Multiply', 3, 'x_2'], simulator_path=None, surrogates=None, maximize=False, ideal=None, nadir=None, objective_type=<ObjectiveTypeEnum.analytical: 'analytical'>, is_linear=False, is_convex=False, is_twice_differentiable=False, scenario_keys=None), Objective(name='Fuel consumption', symbol='f_3', unit=None, func=['Multiply', 1.5, 'x_3'], simulator_path=None, surrogates=None, maximize=False, ideal=None, nadir=None, objective_type=<ObjectiveTypeEnum.analytical: 'analytical'>, is_linear=False, is_convex=False, is_twice_differentiable=False, scenario_keys=None)] constraints=[Constraint(name='constraint g_1', symbol='g_1', cons_type=<ConstraintTypeEnum.LTE: '<='>, func=['Add', ['Multiply', 2.5, 'x_1'], ['Add', ['Multiply', 2, 'x_3'], ['Negate', 'E']]], simulator_path=None, surrogates=None, is_linear=True, is_convex=False, is_twice_differentiable=False, scenario_keys=None), Constraint(name='constraint g_2', symbol='g_2', cons_type=<ConstraintTypeEnum.LTE: '<='>, func=['Add', ['Multiply', 3, 'x_2'], ['Negate', 'B']], simulator_path=None, surrogates=None, is_linear=True, is_convex=False, is_twice_differentiable=False, scenario_keys=None)] extra_funcs=None scalarization_funcs=None discrete_representation=None scenario_keys=None simulators=None is_convex_=None is_linear_=True is_twice_differentiable_=True\n",
      "Gurobi Optimizer version 11.0.3 build v11.0.3rc0 (win64 - Windows 10.0 (19045.2))\n",
      "\n",
      "CPU model: 12th Gen Intel(R) Core(TM) i5-1245U, instruction set [SSE2|AVX|AVX2]\n",
      "Thread count: 10 physical cores, 12 logical processors, using up to 12 threads\n",
      "\n",
      "Optimize a model with 2 rows, 3 columns and 3 nonzeros\n",
      "Model fingerprint: 0x4bda50e8\n",
      "Coefficient statistics:\n",
      "  Matrix range     [2e+00, 3e+00]\n",
      "  Objective range  [3e+00, 3e+00]\n",
      "  Bounds range     [3e-01, 1e+00]\n",
      "  RHS range        [1e+00, 1e+00]\n",
      "Presolve removed 0 rows and 3 columns\n",
      "Presolve time: 0.01s\n",
      "\n",
      "Solved in 0 iterations and 0.01 seconds (0.00 work units)\n",
      "Infeasible model\n"
     ]
    },
    {
     "ename": "AttributeError",
     "evalue": "Unable to retrieve attribute 'X'",
     "output_type": "error",
     "traceback": [
      "\u001b[1;31m---------------------------------------------------------------------------\u001b[0m",
      "\u001b[1;31mAttributeError\u001b[0m                            Traceback (most recent call last)",
      "Cell \u001b[1;32mIn[6], line 36\u001b[0m\n\u001b[0;32m     23\u001b[0m problem \u001b[38;5;241m=\u001b[39m Problem(\n\u001b[0;32m     24\u001b[0m     name\u001b[38;5;241m=\u001b[39m\u001b[38;5;124m\"\u001b[39m\u001b[38;5;124mMulti-Objective Optimization Problem\u001b[39m\u001b[38;5;124m\"\u001b[39m,\n\u001b[0;32m     25\u001b[0m     description\u001b[38;5;241m=\u001b[39m\u001b[38;5;124m\"\u001b[39m\u001b[38;5;124mA multi-objective optimization problem for carbon emission, price, and Fuel consumption.\u001b[39m\u001b[38;5;124m\"\u001b[39m,\n\u001b[1;32m   (...)\u001b[0m\n\u001b[0;32m     31\u001b[0m     is_linear\u001b[38;5;241m=\u001b[39m\u001b[38;5;28;01mTrue\u001b[39;00m\n\u001b[0;32m     32\u001b[0m )\n\u001b[0;32m     34\u001b[0m \u001b[38;5;28mprint\u001b[39m(problem)\n\u001b[1;32m---> 36\u001b[0m ideal, nadir \u001b[38;5;241m=\u001b[39m \u001b[43mpayoff_table_method\u001b[49m\u001b[43m(\u001b[49m\u001b[43mproblem\u001b[49m\u001b[43m)\u001b[49m\n\u001b[0;32m     38\u001b[0m \u001b[38;5;66;03m# Update the problem with ideal and nadir values\u001b[39;00m\n\u001b[0;32m     39\u001b[0m problem \u001b[38;5;241m=\u001b[39m problem\u001b[38;5;241m.\u001b[39mupdate_ideal_and_nadir(new_ideal\u001b[38;5;241m=\u001b[39mideal, new_nadir\u001b[38;5;241m=\u001b[39mnadir)\n",
      "File \u001b[1;32mC:\\MyTemp\\code\\DESDEO\\desdeo\\tools\\utils.py:308\u001b[0m, in \u001b[0;36mpayoff_table_method\u001b[1;34m(problem, solver)\u001b[0m\n\u001b[0;32m    305\u001b[0m po_table \u001b[38;5;241m=\u001b[39m np\u001b[38;5;241m.\u001b[39mzeros((k, k))\n\u001b[0;32m    307\u001b[0m \u001b[38;5;28;01mfor\u001b[39;00m i \u001b[38;5;129;01min\u001b[39;00m \u001b[38;5;28mrange\u001b[39m(k):\n\u001b[1;32m--> 308\u001b[0m     res \u001b[38;5;241m=\u001b[39m \u001b[43msolver\u001b[49m\u001b[38;5;241;43m.\u001b[39;49m\u001b[43msolve\u001b[49m\u001b[43m(\u001b[49m\u001b[38;5;124;43mf\u001b[39;49m\u001b[38;5;124;43m\"\u001b[39;49m\u001b[38;5;132;43;01m{\u001b[39;49;00m\u001b[43mproblem\u001b[49m\u001b[38;5;241;43m.\u001b[39;49m\u001b[43mobjectives\u001b[49m\u001b[43m[\u001b[49m\u001b[43mi\u001b[49m\u001b[43m]\u001b[49m\u001b[38;5;241;43m.\u001b[39;49m\u001b[43msymbol\u001b[49m\u001b[38;5;132;43;01m}\u001b[39;49;00m\u001b[38;5;124;43m_min\u001b[39;49m\u001b[38;5;124;43m\"\u001b[39;49m\u001b[43m)\u001b[49m\n\u001b[0;32m    309\u001b[0m     \u001b[38;5;28;01mfor\u001b[39;00m j \u001b[38;5;129;01min\u001b[39;00m \u001b[38;5;28mrange\u001b[39m(k):\n\u001b[0;32m    310\u001b[0m         po_table[i][j] \u001b[38;5;241m=\u001b[39m res\u001b[38;5;241m.\u001b[39moptimal_objectives[problem\u001b[38;5;241m.\u001b[39mobjectives[j]\u001b[38;5;241m.\u001b[39msymbol]\n",
      "File \u001b[1;32mC:\\MyTemp\\code\\DESDEO\\desdeo\\tools\\gurobipy_solver_interfaces.py:81\u001b[0m, in \u001b[0;36mGurobipySolver.solve\u001b[1;34m(self, target)\u001b[0m\n\u001b[0;32m     79\u001b[0m \u001b[38;5;28mself\u001b[39m\u001b[38;5;241m.\u001b[39mevaluator\u001b[38;5;241m.\u001b[39mset_optimization_target(target)\n\u001b[0;32m     80\u001b[0m \u001b[38;5;28mself\u001b[39m\u001b[38;5;241m.\u001b[39mevaluator\u001b[38;5;241m.\u001b[39mmodel\u001b[38;5;241m.\u001b[39moptimize()\n\u001b[1;32m---> 81\u001b[0m \u001b[38;5;28;01mreturn\u001b[39;00m \u001b[43mparse_gurobipy_optimizer_results\u001b[49m\u001b[43m(\u001b[49m\u001b[38;5;28;43mself\u001b[39;49m\u001b[38;5;241;43m.\u001b[39;49m\u001b[43mproblem\u001b[49m\u001b[43m,\u001b[49m\u001b[43m \u001b[49m\u001b[38;5;28;43mself\u001b[39;49m\u001b[38;5;241;43m.\u001b[39;49m\u001b[43mevaluator\u001b[49m\u001b[43m)\u001b[49m\n",
      "File \u001b[1;32mC:\\MyTemp\\code\\DESDEO\\desdeo\\tools\\gurobipy_solver_interfaces.py:19\u001b[0m, in \u001b[0;36mparse_gurobipy_optimizer_results\u001b[1;34m(problem, evaluator)\u001b[0m\n\u001b[0;32m      9\u001b[0m \u001b[38;5;28;01mdef\u001b[39;00m \u001b[38;5;21mparse_gurobipy_optimizer_results\u001b[39m(problem: Problem, evaluator: GurobipyEvaluator) \u001b[38;5;241m-\u001b[39m\u001b[38;5;241m>\u001b[39m SolverResults:\n\u001b[0;32m     10\u001b[0m \u001b[38;5;250m    \u001b[39m\u001b[38;5;124;03m\"\"\"Parses results from GurobipyEvaluator's model into DESDEO SolverResults.\u001b[39;00m\n\u001b[0;32m     11\u001b[0m \n\u001b[0;32m     12\u001b[0m \u001b[38;5;124;03m    Args:\u001b[39;00m\n\u001b[1;32m   (...)\u001b[0m\n\u001b[0;32m     17\u001b[0m \u001b[38;5;124;03m        SolverResults: DESDEO solver results.\u001b[39;00m\n\u001b[0;32m     18\u001b[0m \u001b[38;5;124;03m    \"\"\"\u001b[39;00m\n\u001b[1;32m---> 19\u001b[0m     results \u001b[38;5;241m=\u001b[39m \u001b[43mevaluator\u001b[49m\u001b[38;5;241;43m.\u001b[39;49m\u001b[43mget_values\u001b[49m\u001b[43m(\u001b[49m\u001b[43m)\u001b[49m\n\u001b[0;32m     21\u001b[0m     variable_values \u001b[38;5;241m=\u001b[39m {var\u001b[38;5;241m.\u001b[39msymbol: results[var\u001b[38;5;241m.\u001b[39msymbol] \u001b[38;5;28;01mfor\u001b[39;00m var \u001b[38;5;129;01min\u001b[39;00m problem\u001b[38;5;241m.\u001b[39mvariables}\n\u001b[0;32m     22\u001b[0m     objective_values \u001b[38;5;241m=\u001b[39m {obj\u001b[38;5;241m.\u001b[39msymbol: results[obj\u001b[38;5;241m.\u001b[39msymbol] \u001b[38;5;28;01mfor\u001b[39;00m obj \u001b[38;5;129;01min\u001b[39;00m problem\u001b[38;5;241m.\u001b[39mobjectives}\n",
      "File \u001b[1;32mC:\\MyTemp\\code\\DESDEO\\desdeo\\problem\\gurobipy_evaluator.py:489\u001b[0m, in \u001b[0;36mGurobipyEvaluator.get_values\u001b[1;34m(self)\u001b[0m\n\u001b[0;32m    487\u001b[0m         result_dict[var\u001b[38;5;241m.\u001b[39msymbol] \u001b[38;5;241m=\u001b[39m \u001b[38;5;28mself\u001b[39m\u001b[38;5;241m.\u001b[39mmvars[var\u001b[38;5;241m.\u001b[39msymbol]\u001b[38;5;241m.\u001b[39mgetAttr(gp\u001b[38;5;241m.\u001b[39mGRB\u001b[38;5;241m.\u001b[39mAttr\u001b[38;5;241m.\u001b[39mX)\n\u001b[0;32m    488\u001b[0m     \u001b[38;5;28;01melse\u001b[39;00m:\n\u001b[1;32m--> 489\u001b[0m         result_dict[var\u001b[38;5;241m.\u001b[39msymbol] \u001b[38;5;241m=\u001b[39m \u001b[38;5;28;43mself\u001b[39;49m\u001b[38;5;241;43m.\u001b[39;49m\u001b[43mmodel\u001b[49m\u001b[38;5;241;43m.\u001b[39;49m\u001b[43mgetVarByName\u001b[49m\u001b[43m(\u001b[49m\u001b[43mvar\u001b[49m\u001b[38;5;241;43m.\u001b[39;49m\u001b[43msymbol\u001b[49m\u001b[43m)\u001b[49m\u001b[38;5;241;43m.\u001b[39;49m\u001b[43mgetAttr\u001b[49m\u001b[43m(\u001b[49m\u001b[43mgp\u001b[49m\u001b[38;5;241;43m.\u001b[39;49m\u001b[43mGRB\u001b[49m\u001b[38;5;241;43m.\u001b[39;49m\u001b[43mAttr\u001b[49m\u001b[38;5;241;43m.\u001b[39;49m\u001b[43mX\u001b[49m\u001b[43m)\u001b[49m\n\u001b[0;32m    491\u001b[0m \u001b[38;5;28;01mfor\u001b[39;00m obj \u001b[38;5;129;01min\u001b[39;00m \u001b[38;5;28mself\u001b[39m\u001b[38;5;241m.\u001b[39mproblem\u001b[38;5;241m.\u001b[39mobjectives:\n\u001b[0;32m    492\u001b[0m     result_dict[obj\u001b[38;5;241m.\u001b[39msymbol] \u001b[38;5;241m=\u001b[39m \u001b[38;5;28mself\u001b[39m\u001b[38;5;241m.\u001b[39mobjective_functions[obj\u001b[38;5;241m.\u001b[39msymbol]\u001b[38;5;241m.\u001b[39mgetValue()\n",
      "File \u001b[1;32msrc\\\\gurobipy\\\\var.pxi:153\u001b[0m, in \u001b[0;36mgurobipy.Var.getAttr\u001b[1;34m()\u001b[0m\n",
      "File \u001b[1;32msrc\\\\gurobipy\\\\attrutil.pxi:103\u001b[0m, in \u001b[0;36mgurobipy._getattr\u001b[1;34m()\u001b[0m\n",
      "\u001b[1;31mAttributeError\u001b[0m: Unable to retrieve attribute 'X'"
     ]
    }
   ],
   "source": [
    "from desdeo.problem.schema import Problem, Variable, Constant, Objective, Constraint, ConstraintTypeEnum\n",
    "from desdeo.tools import payoff_table_method\n",
    "\n",
    "# Define decision variables\n",
    "variable_1 = Variable(name=\"Carbon_emission\", symbol=\"x_1\", variable_type=\"real\", lowerbound=0.3, upperbound=1, initial_value=0.5)\n",
    "variable_2 = Variable(name=\"Price\", symbol=\"x_2\", variable_type=\"real\", lowerbound=0.3, upperbound=1, initial_value=0.5)\n",
    "variable_3 = Variable(name=\"Fuel consumption\", symbol=\"x_3\", variable_type=\"real\", lowerbound=0.3, upperbound=1, initial_value=0.5)\n",
    "\n",
    "# Define constants\n",
    "constant_c_1 = Constant(name=\"The constant c_1\", symbol=\"E\", value=1)\n",
    "constant_c_2 = Constant(name=\"The constant c_2\", symbol=\"B\", value=1)\n",
    "\n",
    "# Define objectives using strings (infix expressions)\n",
    "objective_1 = Objective(name=\"Carbon_emission\", symbol=\"f_1\", func=\"2.5 * x_1\", maximize=False)\n",
    "objective_2 = Objective(name=\"Price\", symbol=\"f_2\", func=\"3 * x_2\", maximize=False)\n",
    "objective_3 = Objective(name=\"Fuel consumption\", symbol=\"f_3\", func=\"1.5 * x_3\", maximize=False)\n",
    "\n",
    "# Define constraints using strings (infix expressions)\n",
    "constraint_g_1 = Constraint(name=\"constraint g_1\", symbol=\"g_1\", func=\"2.5 * x_1 + 2* x_3 - E\", cons_type=ConstraintTypeEnum.LTE)\n",
    "constraint_g_2 = Constraint(name=\"constraint g_2\", symbol=\"g_2\", func=\"3 * x_2 - B\", cons_type=ConstraintTypeEnum.LTE)\n",
    "\n",
    "# Define the problem\n",
    "problem = Problem(\n",
    "    name=\"Multi-Objective Optimization Problem\",\n",
    "    description=\"A multi-objective optimization problem for carbon emission, price, and Fuel consumption.\",\n",
    "    constants=[constant_c_1, constant_c_2],\n",
    "    variables=[variable_1, variable_2, variable_3],\n",
    "    objectives=[objective_1, objective_2, objective_3],\n",
    "    constraints=[constraint_g_1, constraint_g_2],\n",
    "    is_twice_differentiable=True,\n",
    "    is_linear=True\n",
    ")\n",
    "\n",
    "print(problem)\n",
    "\n",
    "ideal, nadir = payoff_table_method(problem)\n",
    "\n",
    "# Update the problem with ideal and nadir values\n",
    "problem = problem.update_ideal_and_nadir(new_ideal=ideal, new_nadir=nadir)\n",
    "\n",
    "# Print results\n",
    "print(\"Ideal vector:\", ideal)\n",
    "print(\"Nadir vector:\", nadir)\n",
    "\n",
    "print(f\"Ideal values: {problem.get_ideal_point()}\")\n",
    "print(f\"Nadir values: {problem.get_nadir_point()} (approximations!)\")\n",
    "\n",
    "\n",
    "\n"
   ]
  }
 ],
 "metadata": {
  "kernelspec": {
   "display_name": "desdeo3",
   "language": "python",
   "name": "python3"
  },
  "language_info": {
   "codemirror_mode": {
    "name": "ipython",
    "version": 3
   },
   "file_extension": ".py",
   "mimetype": "text/x-python",
   "name": "python",
   "nbconvert_exporter": "python",
   "pygments_lexer": "ipython3",
   "version": "3.12.7"
  }
 },
 "nbformat": 4,
 "nbformat_minor": 2
}
