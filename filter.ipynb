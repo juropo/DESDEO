{
 "cells": [
  {
   "cell_type": "code",
   "execution_count": 2,
   "metadata": {},
   "outputs": [],
   "source": [
    "import polars as pl\n",
    "from pathlib import Path\n"
   ]
  },
  {
   "cell_type": "code",
   "execution_count": 3,
   "metadata": {},
   "outputs": [
    {
     "name": "stdout",
     "output_type": "stream",
     "text": [
      "shape: (3, 3)\n",
      "┌──────┬──────┬──────┐\n",
      "│ col1 ┆ col2 ┆ col3 │\n",
      "│ ---  ┆ ---  ┆ ---  │\n",
      "│ i64  ┆ str  ┆ i64  │\n",
      "╞══════╪══════╪══════╡\n",
      "│ 1    ┆ A    ┆ 10   │\n",
      "│ 2    ┆ B    ┆ 20   │\n",
      "│ 3    ┆ C    ┆ 40   │\n",
      "└──────┴──────┴──────┘\n"
     ]
    }
   ],
   "source": [
    "\n",
    "# Example DataFrames\n",
    "df1 = pl.DataFrame({\n",
    "    'col1': [1, 2, 3],\n",
    "    'col2': ['A', 'B', 'C']\n",
    "})\n",
    "\n",
    "df2 = pl.DataFrame({\n",
    "    'col1': [1, 2, 2, 3, 4],\n",
    "    'col2': ['A', 'B', 'D', 'C', 'E'],\n",
    "    'col3': [10, 20, 30, 40, 50]\n",
    "})\n",
    "\n",
    "# Filter df2 to include only rows where col1 and col2 match those in df1\n",
    "filtered_df2 = df2.join(df1, on=['col1', 'col2'], how='inner')\n",
    "\n",
    "print(filtered_df2)"
   ]
  },
  {
   "cell_type": "code",
   "execution_count": null,
   "metadata": {},
   "outputs": [],
   "source": [
    "data_dir=\"C:/MyTemp/data/alternatives/Kinnunen\"\n",
    "df = pl.read_csv(\n",
    "    Path(f\"{data_dir}/alternatives.csv\"), schema_overrides={\"unit\": pl.Float64}, infer_schema_length=1000\n",
    ")\n",
    "separator = \",\"\n",
    "unfiltered_df_key = pl.read_csv(\n",
    "    Path(f\"{data_dir}/alternatives_key.csv\"),\n",
    "    schema_overrides={\"unit\": pl.Float64},\n",
    "    separator=separator,\n",
    ")\n",
    "\n",
    "# Remove the decision alternatives that are not found in the filter file\n",
    "filter_df = pl.read_csv(\n",
    "    Path(f\"{data_dir}/filter.csv\"),\n",
    "    schema_overrides={\"unit\": pl.Float64},\n",
    "    separator=separator,\n",
    ")"
   ]
  },
  {
   "cell_type": "code",
   "execution_count": null,
   "metadata": {},
   "outputs": [],
   "source": []
  }
 ],
 "metadata": {
  "kernelspec": {
   "display_name": "desdeo3",
   "language": "python",
   "name": "python3"
  },
  "language_info": {
   "codemirror_mode": {
    "name": "ipython",
    "version": 3
   },
   "file_extension": ".py",
   "mimetype": "text/x-python",
   "name": "python",
   "nbconvert_exporter": "python",
   "pygments_lexer": "ipython3",
   "version": "3.12.7"
  }
 },
 "nbformat": 4,
 "nbformat_minor": 2
}
