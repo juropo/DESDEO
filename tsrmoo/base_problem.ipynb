{
 "cells": [
  {
   "cell_type": "code",
   "execution_count": 12,
   "metadata": {},
   "outputs": [],
   "source": [
    "from collections import defaultdict\n",
    "from pathlib import Path\n",
    "\n",
    "import gurobipy as gp\n",
    "import polars as pl\n",
    "from gurobipy import GRB\n"
   ]
  },
  {
   "cell_type": "code",
   "execution_count": 13,
   "metadata": {},
   "outputs": [],
   "source": [
    "discount_factor = 5\n",
    "data_dir = \"C:/MyTemp/data/two_stage_data/h1h23\"\n",
    "df = pl.read_csv(Path(f\"{data_dir}/alternatives.csv\"), schema_overrides={\"unit\": pl.Int64}, infer_schema_length=1000)\n",
    "df = df.select(\n",
    "    [\n",
    "        \"unit\",\n",
    "        \"schedule\",\n",
    "        f\"npv_{discount_factor}_percent\",\n",
    "        \"stock_0\",\n",
    "        \"stock_5\",\n",
    "        \"stock_25\",\n",
    "        \"harvest_value_5\",\n",
    "        \"harvest_value_25\",\n",
    "        \"stock_1_0\",\n",
    "        \"stock_1_5\",\n",
    "        \"stock_1_25\",\n",
    "        \"stock_2_0\",\n",
    "        \"stock_2_5\",\n",
    "        \"stock_2_25\",\n",
    "        \"stock_30_0\",\n",
    "        \"stock_30_5\",\n",
    "        \"stock_30_25\",\n",
    "    ]\n",
    ")\n",
    "df_keys = pl.read_csv(Path(f\"{data_dir}/alternatives_key.csv\"), schema_overrides={\"unit\": pl.Int64}, infer_schema_length=1000)\n",
    "df_keys = df_keys.drop(\"holding\")\n",
    "# Split the treatments into multiple columns, to make them easier to read or whatever\n",
    "df_keys = df_keys.with_columns([\n",
    "    pl.when(pl.col(\"treatment\").str.contains(\"_5\"))\n",
    "      .then(pl.col(\"treatment\").str.extract(r\"(\\w+)_5\", 1))\n",
    "      .otherwise(pl.lit(\"donothing\"))\n",
    "      .alias(\"treatment_5\"),\n",
    "\n",
    "    pl.when(pl.col(\"treatment\").str.contains(\"_25\"))\n",
    "      .then(pl.col(\"treatment\").str.extract(r\"(\\w+)_25\", 1))\n",
    "      .otherwise(pl.lit(\"donothing\"))\n",
    "      .alias(\"treatment_25\")\n",
    "])\n",
    "\n",
    "df = df_keys.join(df, on=[\"unit\", \"schedule\"], how=\"inner\")"
   ]
  },
  {
   "cell_type": "code",
   "execution_count": 14,
   "metadata": {},
   "outputs": [
    {
     "data": {
      "text/html": [
       "<div><style>\n",
       ".dataframe > thead > tr,\n",
       ".dataframe > tbody > tr {\n",
       "  text-align: right;\n",
       "  white-space: pre-wrap;\n",
       "}\n",
       "</style>\n",
       "<small>shape: (230, 20)</small><table border=\"1\" class=\"dataframe\"><thead><tr><th>unit</th><th>schedule</th><th>treatment</th><th>treatment_5</th><th>treatment_25</th><th>npv_5_percent</th><th>stock_0</th><th>stock_5</th><th>stock_25</th><th>harvest_value_5</th><th>harvest_value_25</th><th>stock_1_0</th><th>stock_1_5</th><th>stock_1_25</th><th>stock_2_0</th><th>stock_2_5</th><th>stock_2_25</th><th>stock_30_0</th><th>stock_30_5</th><th>stock_30_25</th></tr><tr><td>i64</td><td>i64</td><td>str</td><td>str</td><td>str</td><td>f64</td><td>f64</td><td>f64</td><td>f64</td><td>f64</td><td>f64</td><td>f64</td><td>f64</td><td>f64</td><td>f64</td><td>f64</td><td>f64</td><td>f64</td><td>f64</td><td>f64</td></tr></thead><tbody><tr><td>43124559</td><td>0</td><td>&quot;donothing&quot;</td><td>&quot;donothing&quot;</td><td>&quot;donothing&quot;</td><td>5342.485761</td><td>47.917072</td><td>75.79633</td><td>192.788882</td><td>0.0</td><td>0.0</td><td>0.0</td><td>0.0</td><td>0.0</td><td>2.613173</td><td>4.810663</td><td>17.993176</td><td>45.303899</td><td>70.985667</td><td>174.795706</td></tr><tr><td>43124559</td><td>1</td><td>&quot;below_25&quot;</td><td>&quot;donothing&quot;</td><td>&quot;below&quot;</td><td>5818.486519</td><td>47.917072</td><td>75.79633</td><td>77.471365</td><td>0.0</td><td>10226.21739</td><td>0.0</td><td>0.0</td><td>0.0</td><td>2.613173</td><td>4.810663</td><td>5.707215</td><td>45.303899</td><td>70.985667</td><td>71.76415</td></tr><tr><td>43124559</td><td>2</td><td>&quot;above_25&quot;</td><td>&quot;donothing&quot;</td><td>&quot;above&quot;</td><td>5855.612372</td><td>47.917072</td><td>75.79633</td><td>72.852551</td><td>0.0</td><td>11023.814965</td><td>0.0</td><td>0.0</td><td>0.0</td><td>2.613173</td><td>4.810663</td><td>7.901034</td><td>45.303899</td><td>70.985667</td><td>64.951517</td></tr><tr><td>43124559</td><td>3</td><td>&quot;even_25&quot;</td><td>&quot;donothing&quot;</td><td>&quot;even&quot;</td><td>5839.033107</td><td>47.917072</td><td>75.79633</td><td>74.690363</td><td>0.0</td><td>10667.632393</td><td>0.0</td><td>0.0</td><td>0.0</td><td>2.613173</td><td>4.810663</td><td>6.970925</td><td>45.303899</td><td>70.985667</td><td>67.719438</td></tr><tr><td>43124559</td><td>4</td><td>&quot;clearcut_25&quot;</td><td>&quot;donothing&quot;</td><td>&quot;clearcut&quot;</td><td>11688.695243</td><td>47.917072</td><td>75.79633</td><td>0.0423</td><td>0.0</td><td>17414.282066</td><td>0.0</td><td>0.0</td><td>0.0423</td><td>2.613173</td><td>4.810663</td><td>0.0</td><td>45.303899</td><td>70.985667</td><td>0.0</td></tr><tr><td>&hellip;</td><td>&hellip;</td><td>&hellip;</td><td>&hellip;</td><td>&hellip;</td><td>&hellip;</td><td>&hellip;</td><td>&hellip;</td><td>&hellip;</td><td>&hellip;</td><td>&hellip;</td><td>&hellip;</td><td>&hellip;</td><td>&hellip;</td><td>&hellip;</td><td>&hellip;</td><td>&hellip;</td><td>&hellip;</td><td>&hellip;</td><td>&hellip;</td></tr><tr><td>43124580</td><td>0</td><td>&quot;donothing&quot;</td><td>&quot;donothing&quot;</td><td>&quot;donothing&quot;</td><td>8039.585346</td><td>121.824124</td><td>154.465368</td><td>285.34149</td><td>0.0</td><td>0.0</td><td>81.414022</td><td>98.505342</td><td>166.069155</td><td>10.689557</td><td>14.322556</td><td>28.068884</td><td>29.720546</td><td>41.63747</td><td>91.203451</td></tr><tr><td>43124580</td><td>1</td><td>&quot;below_25&quot;</td><td>&quot;donothing&quot;</td><td>&quot;below&quot;</td><td>8509.550542</td><td>121.824124</td><td>154.465368</td><td>172.872991</td><td>0.0</td><td>10096.551727</td><td>81.414022</td><td>98.505342</td><td>99.016988</td><td>10.689557</td><td>14.322556</td><td>18.524791</td><td>29.720546</td><td>41.63747</td><td>55.331212</td></tr><tr><td>43124580</td><td>2</td><td>&quot;above_25&quot;</td><td>&quot;donothing&quot;</td><td>&quot;above&quot;</td><td>8539.686933</td><td>121.824124</td><td>154.465368</td><td>170.355714</td><td>0.0</td><td>10743.99036</td><td>81.414022</td><td>98.505342</td><td>100.757673</td><td>10.689557</td><td>14.322556</td><td>15.418779</td><td>29.720546</td><td>41.63747</td><td>54.179262</td></tr><tr><td>43124580</td><td>3</td><td>&quot;even_25&quot;</td><td>&quot;donothing&quot;</td><td>&quot;even&quot;</td><td>8537.747868</td><td>121.824124</td><td>154.465368</td><td>168.491296</td><td>0.0</td><td>10702.332243</td><td>81.414022</td><td>98.505342</td><td>98.062175</td><td>10.689557</td><td>14.322556</td><td>16.574395</td><td>29.720546</td><td>41.63747</td><td>53.854726</td></tr><tr><td>43124580</td><td>4</td><td>&quot;clearcut_25&quot;</td><td>&quot;donothing&quot;</td><td>&quot;clearcut&quot;</td><td>18560.631182</td><td>121.824124</td><td>154.465368</td><td>0.0711</td><td>0.0</td><td>26134.483267</td><td>81.414022</td><td>98.505342</td><td>0.0711</td><td>10.689557</td><td>14.322556</td><td>0.0</td><td>29.720546</td><td>41.63747</td><td>0.0</td></tr></tbody></table></div>"
      ],
      "text/plain": [
       "shape: (230, 20)\n",
       "┌──────────┬──────────┬────────────┬───────────┬───┬───────────┬───────────┬───────────┬───────────┐\n",
       "│ unit     ┆ schedule ┆ treatment  ┆ treatment ┆ … ┆ stock_2_2 ┆ stock_30_ ┆ stock_30_ ┆ stock_30_ │\n",
       "│ ---      ┆ ---      ┆ ---        ┆ _5        ┆   ┆ 5         ┆ 0         ┆ 5         ┆ 25        │\n",
       "│ i64      ┆ i64      ┆ str        ┆ ---       ┆   ┆ ---       ┆ ---       ┆ ---       ┆ ---       │\n",
       "│          ┆          ┆            ┆ str       ┆   ┆ f64       ┆ f64       ┆ f64       ┆ f64       │\n",
       "╞══════════╪══════════╪════════════╪═══════════╪═══╪═══════════╪═══════════╪═══════════╪═══════════╡\n",
       "│ 43124559 ┆ 0        ┆ donothing  ┆ donothing ┆ … ┆ 17.993176 ┆ 45.303899 ┆ 70.985667 ┆ 174.79570 │\n",
       "│          ┆          ┆            ┆           ┆   ┆           ┆           ┆           ┆ 6         │\n",
       "│ 43124559 ┆ 1        ┆ below_25   ┆ donothing ┆ … ┆ 5.707215  ┆ 45.303899 ┆ 70.985667 ┆ 71.76415  │\n",
       "│ 43124559 ┆ 2        ┆ above_25   ┆ donothing ┆ … ┆ 7.901034  ┆ 45.303899 ┆ 70.985667 ┆ 64.951517 │\n",
       "│ 43124559 ┆ 3        ┆ even_25    ┆ donothing ┆ … ┆ 6.970925  ┆ 45.303899 ┆ 70.985667 ┆ 67.719438 │\n",
       "│ 43124559 ┆ 4        ┆ clearcut_2 ┆ donothing ┆ … ┆ 0.0       ┆ 45.303899 ┆ 70.985667 ┆ 0.0       │\n",
       "│          ┆          ┆ 5          ┆           ┆   ┆           ┆           ┆           ┆           │\n",
       "│ …        ┆ …        ┆ …          ┆ …         ┆ … ┆ …         ┆ …         ┆ …         ┆ …         │\n",
       "│ 43124580 ┆ 0        ┆ donothing  ┆ donothing ┆ … ┆ 28.068884 ┆ 29.720546 ┆ 41.63747  ┆ 91.203451 │\n",
       "│ 43124580 ┆ 1        ┆ below_25   ┆ donothing ┆ … ┆ 18.524791 ┆ 29.720546 ┆ 41.63747  ┆ 55.331212 │\n",
       "│ 43124580 ┆ 2        ┆ above_25   ┆ donothing ┆ … ┆ 15.418779 ┆ 29.720546 ┆ 41.63747  ┆ 54.179262 │\n",
       "│ 43124580 ┆ 3        ┆ even_25    ┆ donothing ┆ … ┆ 16.574395 ┆ 29.720546 ┆ 41.63747  ┆ 53.854726 │\n",
       "│ 43124580 ┆ 4        ┆ clearcut_2 ┆ donothing ┆ … ┆ 0.0       ┆ 29.720546 ┆ 41.63747  ┆ 0.0       │\n",
       "│          ┆          ┆ 5          ┆           ┆   ┆           ┆           ┆           ┆           │\n",
       "└──────────┴──────────┴────────────┴───────────┴───┴───────────┴───────────┴───────────┴───────────┘"
      ]
     },
     "execution_count": 14,
     "metadata": {},
     "output_type": "execute_result"
    }
   ],
   "source": [
    "# Increase display settings\n",
    "#pl.Config.set_tbl_rows(1000)    # show up to 1000 rows\n",
    "#pl.Config.set_tbl_cols(50)      # show up to 50 columns\n",
    "#pl.Config.set_fmt_str_lengths(100)  # allow long string truncation length\n",
    "\n",
    "# Now printing will show more\n",
    "df"
   ]
  },
  {
   "cell_type": "code",
   "execution_count": null,
   "metadata": {},
   "outputs": [
    {
     "name": "stdout",
     "output_type": "stream",
     "text": [
      "Gurobi Optimizer version 11.0.3 build v11.0.3rc0 (win64 - Windows 10.0 (19045.2))\n",
      "\n",
      "CPU model: 12th Gen Intel(R) Core(TM) i5-1245U, instruction set [SSE2|AVX|AVX2]\n",
      "Thread count: 10 physical cores, 12 logical processors, using up to 12 threads\n",
      "\n",
      "Optimize a model with 26 rows, 234 columns and 999 nonzeros\n",
      "Model fingerprint: 0x50260403\n",
      "Variable types: 4 continuous, 230 integer (230 binary)\n",
      "Coefficient statistics:\n"
     ]
    },
    {
     "name": "stdout",
     "output_type": "stream",
     "text": [
      "  Matrix range     [2e-02, 1e+05]\n",
      "  Objective range  [1e+00, 1e+00]\n",
      "  Bounds range     [1e+00, 1e+00]\n",
      "  RHS range        [1e+00, 1e+00]\n",
      "Found heuristic solution: objective 0.0000000\n",
      "\n",
      "Explored 0 nodes (0 simplex iterations) in 0.02 seconds (0.00 work units)\n",
      "Thread count was 1 (of 12 available processors)\n",
      "\n",
      "Solution count 1: 0 \n",
      "\n",
      "Optimal solution found (tolerance 1.00e-04)\n",
      "Best objective 0.000000000000e+00, best bound 0.000000000000e+00, gap 0.0000%\n",
      "0.0\n"
     ]
    }
   ],
   "source": [
    "model = gp.Model()\n",
    "\n",
    "hsum5 = 0\n",
    "hsum25 = 0\n",
    "npvsum = 0\n",
    "stocksum = 0\n",
    "mvars = {}\n",
    "unitsums = defaultdict(float)\n",
    "for row in df.iter_rows(named=True):\n",
    "    new_var = model.addVar( vtype=GRB.BINARY )\n",
    "    mvars[(row[\"unit\"],row[\"treatment_5\"],row[\"treatment_25\"])] = new_var\n",
    "    hsum5 += new_var*row[\"harvest_value_5\"]\n",
    "    hsum25 += new_var*row[\"harvest_value_25\"]\n",
    "    npvsum += new_var*row[f\"npv_{discount_factor}_percent\"]\n",
    "    stocksum += new_var*row[\"stock_25\"]\n",
    "    unitsums[row[\"unit\"]] += new_var\n",
    "\n",
    "for unitsum in unitsums.values():\n",
    "    model.addConstr(unitsum == 1)\n",
    "\n",
    "harvest5 = model.addVar()\n",
    "model.addConstr(harvest5 <= hsum5)\n",
    "harvest25 = model.addVar()\n",
    "model.addConstr(harvest25 <= hsum25)\n",
    "stock = model.addVar()\n",
    "model.addConstr(stock <= stocksum)\n",
    "npv = model.addVar()\n",
    "model.addConstr(npv <= npvsum)\n",
    "\n",
    "model.setObjective(npv,sense=GRB.MAXIMIZE)\n",
    "model.optimize()\n",
    "\n",
    "print(model.ObjVal)"
   ]
  }
 ],
 "metadata": {
  "kernelspec": {
   "display_name": "desdeo3",
   "language": "python",
   "name": "python3"
  },
  "language_info": {
   "codemirror_mode": {
    "name": "ipython",
    "version": 3
   },
   "file_extension": ".py",
   "mimetype": "text/x-python",
   "name": "python",
   "nbconvert_exporter": "python",
   "pygments_lexer": "ipython3",
   "version": "3.12.7"
  }
 },
 "nbformat": 4,
 "nbformat_minor": 2
}
